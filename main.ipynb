{
 "cells": [
  {
   "cell_type": "code",
   "execution_count": 162,
   "metadata": {},
   "outputs": [],
   "source": [
    "import pandas as pd\n",
    "import matplotlib.pyplot as plt\n",
    "import plotly.offline as pyo\n",
    "import plotly.graph_objs as go\n",
    "import dash\n",
    "import dash_html_components as html\n",
    "import dash_core_components as dcc\n",
    "from dash.dependencies import Output,Input\n",
    "from io import BytesIO\n",
    "from wordcloud import WordCloud\n",
    "import base64"
   ]
  },
  {
   "cell_type": "code",
   "execution_count": 7,
   "metadata": {},
   "outputs": [
    {
     "name": "stderr",
     "output_type": "stream",
     "text": [
      "C:\\Users\\Agam\\anaconda3\\lib\\site-packages\\IPython\\core\\interactiveshell.py:3071: DtypeWarning:\n",
      "\n",
      "Columns (4,6,31,33,61,62,63,76,79,90,92,94,96,114,115,121) have mixed types.Specify dtype option on import or set low_memory=False.\n",
      "\n"
     ]
    }
   ],
   "source": [
    "df = pd.read_csv(\"globalterrorismdb_0718dist.csv\",  encoding='ISO-8859–1')"
   ]
  },
  {
   "cell_type": "code",
   "execution_count": 163,
   "metadata": {},
   "outputs": [],
   "source": [
    "app = dash.Dash()"
   ]
  },
  {
   "cell_type": "code",
   "execution_count": 164,
   "metadata": {},
   "outputs": [],
   "source": [
    "a  = df['country_txt'].unique()\n",
    "a.sort()\n",
    "countries = []\n",
    "for country in a:\n",
    "    countries.append({'label':country,'value':country})\n",
    "countries.append({'label':'World','value':'World'})    "
   ]
  },
  {
   "cell_type": "code",
   "execution_count": 43,
   "metadata": {},
   "outputs": [
    {
     "data": {
      "text/plain": [
       "'sun.html'"
      ]
     },
     "execution_count": 43,
     "metadata": {},
     "output_type": "execute_result"
    }
   ],
   "source": [
    "    labels = []\n",
    "    parents = []\n",
    "    values = []\n",
    "    \n",
    "    for region in df['region_txt'].unique():\n",
    "        labels.append(region)\n",
    "        parents.append(\"\")\n",
    "        values.append(df[df['region_txt'] == region]['iyear'].count())\n",
    "        \n",
    "    for country in df['country_txt'].unique():\n",
    "        labels.append(country)\n",
    "        parents.append(df[df['country_txt'] == country]['region_txt'].unique()[0])\n",
    "        values.append(df[df['country_txt'] == country]['iyear'].count())\n",
    "        \n",
    "    trace_sun =[go.Sunburst(\n",
    "    labels=labels,\n",
    "    parents=parents,\n",
    "    values=values,\n",
    "    branchvalues=\"total\",\n",
    "    )]\n",
    "    layout_sun = go.Layout(title='sun plot')\n",
    "    \n",
    "    fig = go.Figure(data=trace_sun,layout=layout_sun)\n",
    "    pyo.plot(fig,filename='sun.html')"
   ]
  },
  {
   "cell_type": "code",
   "execution_count": 165,
   "metadata": {},
   "outputs": [],
   "source": [
    "app.layout = html.Div(children = [\n",
    "                   \n",
    "                html.P(dcc.Dropdown(id = 'country_picker',options = countries,value = 'World')),\n",
    "                html.P(dcc.Graph(id='graph0')),\n",
    "                html.P(html.Div(children = [ dcc.Graph(id='graph1',style={'display': 'inline-block'}),\n",
    "                                         dcc.Graph(id='graph2',style={'display': 'inline-block'})])),\n",
    "                html.P(dcc.Slider(id = 'year_picker',min=df['iyear'].min(),max=df['iyear'].max(),step =2,value = df['iyear'].min(),\n",
    "                              marks = {i : i for i in range(df['iyear'].min(),df['iyear'].max(),2)})),\n",
    "                html.P(dcc.Dropdown(id = 'wordcloud',options=countries,value = 'India',style={\"padding\": 10})),\n",
    "                html.P(html.Img(id=\"image_wc\",className='container', style={'width': '96%','padding-left':'3', 'padding-right':'1%'}))\n",
    "                \n",
    "                   \n",
    "])"
   ]
  },
  {
   "cell_type": "code",
   "execution_count": 166,
   "metadata": {},
   "outputs": [],
   "source": [
    "@app.callback(Output('graph0','figure'),[Input('country_picker','value')] )\n",
    "def country_selecter(selected_country):\n",
    "    filtered_df = df\n",
    "    if(selected_country!='World'):\n",
    "        filtered_df = df[df['country_txt'] == selected_country]\n",
    "    \n",
    "    x_data = []\n",
    "    y_data = []\n",
    "    \n",
    "    for year in filtered_df['iyear'].unique():\n",
    "        x_data.append(year)\n",
    "        y_data.append(filtered_df[(filtered_df['iyear'] == year)]['iyear'].count())\n",
    "    \n",
    "    trace = [go.Bar(x = x_data,y = y_data)]\n",
    "    \n",
    "    layout = go.Layout(title = 'region',xaxis = {'title' : 'year'},yaxis = {'title':'number of attacks'})\n",
    "    \n",
    "    return {'data' : trace, 'layout' : layout}\n",
    "        "
   ]
  },
  {
   "cell_type": "code",
   "execution_count": 172,
   "metadata": {},
   "outputs": [
    {
     "ename": "DuplicateCallbackOutput",
     "evalue": "\nYou have already assigned a callback to the output\nwith ID \"graph1\" and property \"figure\". An output can only have\na single callback function. Try combining your inputs and\ncallback functions together into one function.\n",
     "output_type": "error",
     "traceback": [
      "\u001b[1;31m---------------------------------------------------------------------------\u001b[0m",
      "\u001b[1;31mDuplicateCallbackOutput\u001b[0m                   Traceback (most recent call last)",
      "\u001b[1;32m<ipython-input-172-6f8e5d8ca7f4>\u001b[0m in \u001b[0;36m<module>\u001b[1;34m\u001b[0m\n\u001b[1;32m----> 1\u001b[1;33m \u001b[1;33m@\u001b[0m\u001b[0mapp\u001b[0m\u001b[1;33m.\u001b[0m\u001b[0mcallback\u001b[0m\u001b[1;33m(\u001b[0m\u001b[0mOutput\u001b[0m\u001b[1;33m(\u001b[0m\u001b[1;34m'graph1'\u001b[0m\u001b[1;33m,\u001b[0m\u001b[1;34m'figure'\u001b[0m\u001b[1;33m)\u001b[0m\u001b[1;33m,\u001b[0m\u001b[1;33m[\u001b[0m\u001b[0mInput\u001b[0m\u001b[1;33m(\u001b[0m\u001b[1;34m'year_picker'\u001b[0m\u001b[1;33m,\u001b[0m\u001b[1;34m'value'\u001b[0m\u001b[1;33m)\u001b[0m\u001b[1;33m]\u001b[0m \u001b[1;33m)\u001b[0m\u001b[1;33m\u001b[0m\u001b[1;33m\u001b[0m\u001b[0m\n\u001b[0m\u001b[0;32m      2\u001b[0m \u001b[1;32mdef\u001b[0m \u001b[0myear_selecter\u001b[0m\u001b[1;33m(\u001b[0m\u001b[0mselected_year\u001b[0m\u001b[1;33m)\u001b[0m\u001b[1;33m:\u001b[0m\u001b[1;33m\u001b[0m\u001b[1;33m\u001b[0m\u001b[0m\n\u001b[0;32m      3\u001b[0m \u001b[1;33m\u001b[0m\u001b[0m\n\u001b[0;32m      4\u001b[0m     \u001b[0mfiltered_df\u001b[0m \u001b[1;33m=\u001b[0m \u001b[0mdf\u001b[0m\u001b[1;33m[\u001b[0m\u001b[0mdf\u001b[0m\u001b[1;33m[\u001b[0m\u001b[1;34m'iyear'\u001b[0m\u001b[1;33m]\u001b[0m \u001b[1;33m==\u001b[0m \u001b[0mselected_year\u001b[0m\u001b[1;33m]\u001b[0m\u001b[1;33m\u001b[0m\u001b[1;33m\u001b[0m\u001b[0m\n\u001b[0;32m      5\u001b[0m     \u001b[0mtrace\u001b[0m \u001b[1;33m=\u001b[0m \u001b[1;33m[\u001b[0m\u001b[1;33m]\u001b[0m\u001b[1;33m\u001b[0m\u001b[1;33m\u001b[0m\u001b[0m\n",
      "\u001b[1;32m~\\anaconda3\\lib\\site-packages\\dash\\dash.py\u001b[0m in \u001b[0;36mcallback\u001b[1;34m(self, output, inputs, state)\u001b[0m\n\u001b[0;32m    948\u001b[0m     \u001b[1;31m# pylint: disable=dangerous-default-value\u001b[0m\u001b[1;33m\u001b[0m\u001b[1;33m\u001b[0m\u001b[1;33m\u001b[0m\u001b[0m\n\u001b[0;32m    949\u001b[0m     \u001b[1;32mdef\u001b[0m \u001b[0mcallback\u001b[0m\u001b[1;33m(\u001b[0m\u001b[0mself\u001b[0m\u001b[1;33m,\u001b[0m \u001b[0moutput\u001b[0m\u001b[1;33m,\u001b[0m \u001b[0minputs\u001b[0m\u001b[1;33m=\u001b[0m\u001b[1;33m[\u001b[0m\u001b[1;33m]\u001b[0m\u001b[1;33m,\u001b[0m \u001b[0mstate\u001b[0m\u001b[1;33m=\u001b[0m\u001b[1;33m[\u001b[0m\u001b[1;33m]\u001b[0m\u001b[1;33m)\u001b[0m\u001b[1;33m:\u001b[0m\u001b[1;33m\u001b[0m\u001b[1;33m\u001b[0m\u001b[0m\n\u001b[1;32m--> 950\u001b[1;33m         \u001b[0mself\u001b[0m\u001b[1;33m.\u001b[0m\u001b[0m_validate_callback\u001b[0m\u001b[1;33m(\u001b[0m\u001b[0moutput\u001b[0m\u001b[1;33m,\u001b[0m \u001b[0minputs\u001b[0m\u001b[1;33m,\u001b[0m \u001b[0mstate\u001b[0m\u001b[1;33m)\u001b[0m\u001b[1;33m\u001b[0m\u001b[1;33m\u001b[0m\u001b[0m\n\u001b[0m\u001b[0;32m    951\u001b[0m \u001b[1;33m\u001b[0m\u001b[0m\n\u001b[0;32m    952\u001b[0m         \u001b[0mcallback_id\u001b[0m \u001b[1;33m=\u001b[0m \u001b[0m_create_callback_id\u001b[0m\u001b[1;33m(\u001b[0m\u001b[0moutput\u001b[0m\u001b[1;33m)\u001b[0m\u001b[1;33m\u001b[0m\u001b[1;33m\u001b[0m\u001b[0m\n",
      "\u001b[1;32m~\\anaconda3\\lib\\site-packages\\dash\\dash.py\u001b[0m in \u001b[0;36m_validate_callback\u001b[1;34m(self, output, inputs, state)\u001b[0m\n\u001b[0;32m    829\u001b[0m                     \u001b[0moutput\u001b[0m\u001b[1;33m.\u001b[0m\u001b[0mcomponent_property\u001b[0m\u001b[1;33m\u001b[0m\u001b[1;33m\u001b[0m\u001b[0m\n\u001b[0;32m    830\u001b[0m                 ).replace('    ', '')\n\u001b[1;32m--> 831\u001b[1;33m             \u001b[1;32mraise\u001b[0m \u001b[0mexceptions\u001b[0m\u001b[1;33m.\u001b[0m\u001b[0mDuplicateCallbackOutput\u001b[0m\u001b[1;33m(\u001b[0m\u001b[0mmsg\u001b[0m\u001b[1;33m)\u001b[0m\u001b[1;33m\u001b[0m\u001b[1;33m\u001b[0m\u001b[0m\n\u001b[0m\u001b[0;32m    832\u001b[0m \u001b[1;33m\u001b[0m\u001b[0m\n\u001b[0;32m    833\u001b[0m     \u001b[1;32mdef\u001b[0m \u001b[0m_validate_callback_output\u001b[0m\u001b[1;33m(\u001b[0m\u001b[0mself\u001b[0m\u001b[1;33m,\u001b[0m \u001b[0moutput_value\u001b[0m\u001b[1;33m,\u001b[0m \u001b[0moutput\u001b[0m\u001b[1;33m)\u001b[0m\u001b[1;33m:\u001b[0m\u001b[1;33m\u001b[0m\u001b[1;33m\u001b[0m\u001b[0m\n",
      "\u001b[1;31mDuplicateCallbackOutput\u001b[0m: \nYou have already assigned a callback to the output\nwith ID \"graph1\" and property \"figure\". An output can only have\na single callback function. Try combining your inputs and\ncallback functions together into one function.\n"
     ]
    }
   ],
   "source": [
    "@app.callback(Output('graph1','figure'),[Input('year_picker','value')] )\n",
    "def year_selecter(selected_year):\n",
    "    \n",
    "    filtered_df = df[df['iyear'] == selected_year]\n",
    "    trace = [] \n",
    "    df['location'] = df['country_txt'] + \" , \" + df['city']\n",
    "    for region in filtered_df['region_txt'].unique():\n",
    "        trace.append(go.Scattergeo(text = filtered_df[filtered_df['region_txt'] == region]['location'],\n",
    "                               lon=filtered_df[filtered_df['region_txt'] == region]['longitude'],\n",
    "                               lat=filtered_df[filtered_df['region_txt'] == region]['latitude'],\n",
    "                           mode = 'markers',marker=dict(size = 3),\n",
    "                                  name = region))\n",
    "    \n",
    "    layout = go.Layout(title = 'World Map',xaxis = {'title' : 'region'},yaxis = {'title':'no of attacks'})\n",
    "    \n",
    "    return {'data' : trace, 'layout' : layout}"
   ]
  },
  {
   "cell_type": "code",
   "execution_count": 168,
   "metadata": {},
   "outputs": [],
   "source": [
    "@app.callback(Output('graph2','figure'),[Input('year_picker','value')] )\n",
    "def year_selecter(selected_year):\n",
    "    \n",
    "    filtered_df = df[df['iyear'] == selected_year]\n",
    "    \n",
    "    x_data = []\n",
    "    y_data = []\n",
    "    trace = []\n",
    "    for region in filtered_df['region_txt'].unique():\n",
    "        x_data.append(region)\n",
    "        y_data.append(filtered_df[(filtered_df['region_txt'] == region)]['iyear'].count())\n",
    "        y_single = filtered_df[(filtered_df['region_txt'] == region)]['iyear'].count()\n",
    "        trace.append(go.Bar(x=[region],y = [y_single],name = region))\n",
    "    \n",
    "    layout = go.Layout(title = 'region',xaxis = {'title' : 'region'},yaxis = {'title':'no of attacks'})\n",
    "    \n",
    "    return {'data' : trace, 'layout' : layout}\n",
    "        \n",
    "    \n",
    "    \n",
    "    \n",
    "    \n",
    "    "
   ]
  },
  {
   "cell_type": "markdown",
   "metadata": {},
   "source": [
    "# WordCloud"
   ]
  },
  {
   "cell_type": "code",
   "execution_count": 169,
   "metadata": {},
   "outputs": [],
   "source": [
    "def plot_wordcloud1(df,b):\n",
    "    d = df[df['country_txt'] == 'India']['attacktype1_txt'].astype(str).values.tolist()\n",
    "    d = ' '.join(d)\n",
    "    t = df[df['country_txt'] == 'India']['targsubtype1_txt'].astype(str).values.tolist()\n",
    "    t = ' '.join(t)\n",
    "    d = d + t\n",
    "    t = df[df['country_txt'] == 'India']['gname'].astype(str).values.tolist()\n",
    "    t = ' '.join(t)\n",
    "    d = d + t\n",
    "    wc = WordCloud(background_color='white', width=1000, height=500)\n",
    "    wc.generate(d)\n",
    "    return wc.to_image()\n"
   ]
  },
  {
   "cell_type": "code",
   "execution_count": 170,
   "metadata": {},
   "outputs": [],
   "source": [
    "@app.callback(Output('image_wc', 'src'), [Input('wordcloud', 'value')])\n",
    "def make_image(b):\n",
    "    img = BytesIO()\n",
    "    plot_wordcloud1(df,b).save(img, format='PNG')\n",
    "    return 'data:image/png;base64,{}'.format(base64.b64encode(img.getvalue()).decode())"
   ]
  },
  {
   "cell_type": "code",
   "execution_count": 171,
   "metadata": {},
   "outputs": [
    {
     "name": "stdout",
     "output_type": "stream",
     "text": [
      " * Serving Flask app \"__main__\" (lazy loading)\n",
      " * Environment: production\n",
      "   WARNING: This is a development server. Do not use it in a production deployment.\n",
      "   Use a production WSGI server instead.\n",
      " * Debug mode: off\n"
     ]
    },
    {
     "name": "stderr",
     "output_type": "stream",
     "text": [
      " * Running on http://127.0.0.1:8050/ (Press CTRL+C to quit)\n",
      "127.0.0.1 - - [10/Mar/2021 17:51:17] \"\u001b[37mGET / HTTP/1.1\u001b[0m\" 200 -\n",
      "127.0.0.1 - - [10/Mar/2021 17:51:18] \"\u001b[37mGET /_dash-layout HTTP/1.1\u001b[0m\" 200 -\n",
      "127.0.0.1 - - [10/Mar/2021 17:51:18] \"\u001b[37mGET /_dash-dependencies HTTP/1.1\u001b[0m\" 200 -\n",
      "127.0.0.1 - - [10/Mar/2021 17:51:18] \"\u001b[37mPOST /_dash-update-component HTTP/1.1\u001b[0m\" 200 -\n",
      "127.0.0.1 - - [10/Mar/2021 17:51:18] \"\u001b[37mPOST /_dash-update-component HTTP/1.1\u001b[0m\" 200 -\n",
      "127.0.0.1 - - [10/Mar/2021 17:51:19] \"\u001b[37mPOST /_dash-update-component HTTP/1.1\u001b[0m\" 200 -\n",
      "127.0.0.1 - - [10/Mar/2021 17:51:21] \"\u001b[37mPOST /_dash-update-component HTTP/1.1\u001b[0m\" 200 -\n",
      "127.0.0.1 - - [10/Mar/2021 17:51:35] \"\u001b[37mPOST /_dash-update-component HTTP/1.1\u001b[0m\" 200 -\n",
      "127.0.0.1 - - [10/Mar/2021 17:51:35] \"\u001b[37mPOST /_dash-update-component HTTP/1.1\u001b[0m\" 200 -\n",
      "127.0.0.1 - - [10/Mar/2021 17:51:45] \"\u001b[37mPOST /_dash-update-component HTTP/1.1\u001b[0m\" 200 -\n",
      "127.0.0.1 - - [10/Mar/2021 17:51:45] \"\u001b[37mPOST /_dash-update-component HTTP/1.1\u001b[0m\" 200 -\n"
     ]
    }
   ],
   "source": [
    "if __name__ == '__main__':\n",
    "    app.run_server()"
   ]
  },
  {
   "cell_type": "code",
   "execution_count": null,
   "metadata": {},
   "outputs": [],
   "source": []
  },
  {
   "cell_type": "code",
   "execution_count": null,
   "metadata": {},
   "outputs": [],
   "source": []
  }
 ],
 "metadata": {
  "kernelspec": {
   "display_name": "Python 3",
   "language": "python",
   "name": "python3"
  },
  "language_info": {
   "codemirror_mode": {
    "name": "ipython",
    "version": 3
   },
   "file_extension": ".py",
   "mimetype": "text/x-python",
   "name": "python",
   "nbconvert_exporter": "python",
   "pygments_lexer": "ipython3",
   "version": "3.8.3"
  }
 },
 "nbformat": 4,
 "nbformat_minor": 4
}
